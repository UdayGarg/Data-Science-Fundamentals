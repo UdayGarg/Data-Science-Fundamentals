{
 "cells": [
  {
   "attachments": {},
   "cell_type": "markdown",
   "metadata": {},
   "source": [
    "# Worksheet 08\n",
    "\n",
    "Name: Uday Garg\n",
    "\n",
    "UID: U11302797\n",
    "\n",
    "### Topics\n",
    "\n",
    "- Soft Clustering\n",
    "- Clustering Aggregation\n",
    "\n",
    "### Probability Review\n",
    "\n",
    "Read through [the following](https://medium.com/@gallettilance/overview-of-probability-3272b72c82c8)\n",
    "\n",
    "### Soft Clustering\n",
    "\n",
    "We generate 10 data points that come from a normal distribution with mean 5 and variance 1."
   ]
  },
  {
   "cell_type": "code",
   "execution_count": 13,
   "metadata": {},
   "outputs": [
    {
     "name": "stdout",
     "output_type": "stream",
     "text": [
      "[6.304325123174699, 5.1748057455004695, 5.895349720514842, 4.817339497721734, 4.857036693940893, 6.1351032454803285, 5.69804821147687, 6.781268177291016, 5.272790328950243, 5.845116572311545]\n"
     ]
    }
   ],
   "source": [
    "import random\n",
    "import numpy as np\n",
    "from sklearn.cluster import KMeans\n",
    "\n",
    "mean = 5\n",
    "stdev = 1\n",
    "\n",
    "s1 = np.random.normal(mean, stdev, 10).tolist()\n",
    "print(s1)"
   ]
  },
  {
   "cell_type": "markdown",
   "metadata": {},
   "source": [
    "a) Generate 10 more data points, this time coming from a normal distribution with mean 8 and variance 1."
   ]
  },
  {
   "cell_type": "code",
   "execution_count": 14,
   "metadata": {},
   "outputs": [
    {
     "name": "stdout",
     "output_type": "stream",
     "text": [
      "[7.941863609114154, 8.962034050897925, 6.922350260759055, 8.016720834595493, 8.458148727327483, 8.791639250174468, 7.462033117893832, 6.557229276486337, 7.535742148825161, 7.663923713040404]\n"
     ]
    }
   ],
   "source": [
    "s2 = np.random.normal( 8 , 1 , 10 ).tolist()\n",
    "print(s2)"
   ]
  },
  {
   "cell_type": "markdown",
   "metadata": {},
   "source": [
    "b) Flip a fair coin 10 times. If the coin lands on H, then pick the last data point of `c1` and remove it from `c1`, if T then pick the last data point from `c2` and remove it from `c2`. Add these 10 points to a list called `data`."
   ]
  },
  {
   "cell_type": "code",
   "execution_count": 15,
   "metadata": {},
   "outputs": [
    {
     "name": "stdout",
     "output_type": "stream",
     "text": [
      "[7.663923713040404, 7.535742148825161, 6.557229276486337, 5.845116572311545, 5.272790328950243, 7.462033117893832, 8.791639250174468, 6.781268177291016, 5.69804821147687, 6.1351032454803285]\n"
     ]
    }
   ],
   "source": [
    "data = []\n",
    "for i in range(10):\n",
    "    # flip coin\n",
    "    coin_output = random.choice([0, 1])\n",
    "    if coin_output == 0:\n",
    "        p1 = s1.pop()\n",
    "        data.append(p1)\n",
    "    else:\n",
    "        p2 = s2.pop()\n",
    "        data.append(p2)\n",
    "print(data)"
   ]
  },
  {
   "cell_type": "markdown",
   "metadata": {},
   "source": [
    "c) This `data` is a Gaussian Mixture Distribution with 2 mixture components. Over the next few questions we will walk through the GMM algorithm to see if we can uncover the parameters we used to generate this data. First, please list all these parameters of the GMM that created `data` and the values we know they have."
   ]
  },
  {
   "cell_type": "markdown",
   "metadata": {},
   "source": [
    "the data is randomly picked from both different datasets. \n",
    "\n",
    "the probability that it comes from one dataset is 1/2.\n",
    "\n",
    "the mean and var of normal distribution gives us a huge insight.\n",
    "\n"
   ]
  },
  {
   "cell_type": "markdown",
   "metadata": {},
   "source": [
    "d) Let's assume there are two mixture components (note: we could plot the data and make the observation that there are two clusters). The EM algorithm asks us to start with a random `mean_j`, `variance_j`, `P(S_j)` for each component j. One method we could use to find sensible values for these is to apply K means with k=2 here.\n",
    "\n",
    "1. the centroids would be the estimates of the `mean_j`\n",
    "2. the intra-cluster variance could be the estimate of `variance_j`\n",
    "3. the proportion of points in each cluster could be the estimate of `P(S_j)`\n",
    "\n",
    "Go through this process and list the parameter estimates it gives. Are they close or far from the true values?"
   ]
  },
  {
   "cell_type": "code",
   "execution_count": 16,
   "metadata": {},
   "outputs": [
    {
     "name": "stdout",
     "output_type": "stream",
     "text": [
      "[6.557229276486337, 5.845116572311545, 5.272790328950243, 6.781268177291016, 5.69804821147687, 6.1351032454803285]\n",
      "[7.663923713040404, 7.535742148825161, 7.462033117893832, 8.791639250174468]\n",
      "P(S_1) = 0.6,  P(S_2) = 0.4\n",
      "mean_1 = 6.04825930199939,  mean_2 = 7.863334557483466\n",
      "var_1 = 0.2615268702361267,  var_2 = 0.29246847974522316\n"
     ]
    },
    {
     "name": "stderr",
     "output_type": "stream",
     "text": [
      "/Users/uday/Library/Python/3.9/lib/python/site-packages/sklearn/cluster/_kmeans.py:1416: FutureWarning: The default value of `n_init` will change from 10 to 'auto' in 1.4. Set the value of `n_init` explicitly to suppress the warning\n",
      "  super()._check_params_vs_input(X, default_n_init=10)\n"
     ]
    }
   ],
   "source": [
    "kmeans = KMeans(2, init='k-means++').fit(X=np.array(data).reshape(-1, 1))\n",
    "\n",
    "s1 = [x[0] for x in filter(lambda x: x[1] == 0, zip(data, kmeans.labels_))]\n",
    "print(s1)\n",
    "s2 = [x[0] for x in filter(lambda x: x[1] == 1, zip(data, kmeans.labels_))]\n",
    "print(s2)\n",
    "\n",
    "prob_s = [ len(s1) / (len(s1) + len(s2)) , len(s2) / (len(s1) + len(s2)) ]\n",
    "mean = [ sum(s1)/len(s1) , sum(s2)/len(s2) ]\n",
    "var = [ sum(map(lambda x : (x - mean[0])**2, s1)) / len(s1) , sum(map(lambda x : (x - mean[1])**2, s2)) / len(s2) ]\n",
    "\n",
    "print(\"P(S_1) = \" + str(prob_s[0]) + \",  P(S_2) = \" + str(prob_s[1]))\n",
    "print(\"mean_1 = \" + str(mean[0]) + \",  mean_2 = \" + str(mean[1]))\n",
    "print(\"var_1 = \" + str(var[0]) + \",  var_2 = \" + str(var[1]))"
   ]
  },
  {
   "cell_type": "markdown",
   "metadata": {},
   "source": []
  },
  {
   "cell_type": "markdown",
   "metadata": {},
   "source": [
    "e) For each data point, compute `P(S_j | X_i)`. Comment on which cluster you think each point belongs to based on the estimated probabilities. How does that compare to the truth?"
   ]
  },
  {
   "cell_type": "code",
   "execution_count": 17,
   "metadata": {},
   "outputs": [
    {
     "name": "stdout",
     "output_type": "stream",
     "text": [
      "point =  7.663923713040404\n",
      "probability of observing that point if it came from cluster 0 =  7.868374071778253e-09\n",
      "probability of observing that point if it came from cluster 1 =  1.0811449558401012\n",
      "point =  7.535742148825161\n",
      "probability of observing that point if it came from cluster 0 =  1.4412150685438898e-07\n",
      "probability of observing that point if it came from cluster 1 =  0.7284427243010232\n",
      "point =  6.557229276486337\n",
      "probability of observing that point if it came from cluster 0 =  0.2295886270296326\n",
      "probability of observing that point if it came from cluster 1 =  6.370687884808486e-05\n",
      "point =  5.845116572311545\n",
      "probability of observing that point if it came from cluster 0 =  1.12817838604657\n",
      "probability of observing that point if it came from cluster 1 =  6.230894430148176e-11\n",
      "point =  5.272790328950243\n",
      "probability of observing that point if it came from cluster 0 =  0.018801723666261\n",
      "probability of observing that point if it came from cluster 1 =  1.2543429558737524e-17\n",
      "point =  7.462033117893832\n",
      "probability of observing that point if it came from cluster 0 =  6.881202229088487e-07\n",
      "probability of observing that point if it came from cluster 1 =  0.5321154120207718\n",
      "point =  8.791639250174468\n",
      "probability of observing that point if it came from cluster 0 =  1.9459549680763515e-24\n",
      "probability of observing that point if it came from cluster 1 =  0.008854904124846496\n",
      "point =  6.781268177291016\n",
      "probability of observing that point if it came from cluster 0 =  0.030029386754561096\n",
      "probability of observing that point if it came from cluster 1 =  0.0014536282129882997\n",
      "point =  5.69804821147687\n",
      "probability of observing that point if it came from cluster 0 =  0.6223099242618119\n",
      "probability of observing that point if it came from cluster 1 =  1.7086049196503306e-12\n",
      "point =  6.1351032454803285\n",
      "probability of observing that point if it came from cluster 0 =  1.443608817244996\n",
      "probability of observing that point if it came from cluster 1 =  3.569022076580374e-08\n",
      "7.663923713040404\n",
      "Probability of coming from S_0 = 1.0916723900035148e-08\n",
      "Probability of coming from S_1 = 0.999999989083276\n",
      "\n",
      "7.535742148825161\n",
      "Probability of coming from S_0 = 2.967730871798386e-07\n",
      "Probability of coming from S_1 = 0.9999997032269128\n",
      "\n",
      "6.557229276486337\n",
      "Probability of coming from S_0 = 0.9998150457282001\n",
      "Probability of coming from S_1 = 0.000184954271799877\n",
      "\n",
      "5.845116572311545\n",
      "Probability of coming from S_0 = 0.9999999999631801\n",
      "Probability of coming from S_1 = 3.681979438111986e-11\n",
      "\n",
      "5.272790328950243\n",
      "Probability of coming from S_0 = 0.9999999999999996\n",
      "Probability of coming from S_1 = 4.447616889241647e-16\n",
      "\n",
      "7.462033117893832\n",
      "Probability of coming from S_0 = 1.9397640227280297e-06\n",
      "Probability of coming from S_1 = 0.9999980602359774\n",
      "\n",
      "8.791639250174468\n",
      "Probability of coming from S_0 = 3.296402096465531e-22\n",
      "Probability of coming from S_1 = 1.0\n",
      "\n",
      "6.781268177291016\n",
      "Probability of coming from S_0 = 0.9687376375152061\n",
      "Probability of coming from S_1 = 0.0312623624847939\n",
      "\n",
      "5.69804821147687\n",
      "Probability of coming from S_0 = 0.9999999999981696\n",
      "Probability of coming from S_1 = 1.83039013524112e-12\n",
      "\n",
      "6.1351032454803285\n",
      "Probability of coming from S_0 = 0.9999999835180557\n",
      "Probability of coming from S_1 = 1.6481944301075155e-08\n",
      "\n"
     ]
    }
   ],
   "source": [
    "from scipy.stats import norm\n",
    "\n",
    "prob_s0_x = []  # P(S_0 | X_i)\n",
    "prob_s1_x = []  # P(S_1 | X_i)\n",
    "prob_x = []    # P(X_i)\n",
    "\n",
    "k = 2\n",
    "\n",
    "for p in data:\n",
    "    print(\"point = \", p)\n",
    "    pdf_i = []\n",
    "\n",
    "    for j in range(k):\n",
    "        # P(X_i | S_j)\n",
    "        pdf_i.append(norm.pdf(p, mean[j], var[j]))\n",
    "        print(\"probability of observing that point if it came from cluster \" + str(j) + \" = \", pdf_i[j])\n",
    "\n",
    "    # P(X_i) = P(S_0)P(X_i | S_0) + P(S_1)P(X_i | S_1)\n",
    "    prob_x_i = prob_s[0] * pdf_i[0] + prob_s[1] * pdf_i[1]\n",
    "\n",
    "    # P(S_0 | X_i) = P(X_i | S_0)P(S_0) / P(X_i)\n",
    "    prob_s0_x_i = (pdf_i[0] * prob_s[0]) / prob_x_i\n",
    "    prob_s0_x.append(prob_s0_x_i)\n",
    "\n",
    "    # P(S_1 | X_i) = P(X_i | S_1)P(S_1) / P(X_i)\n",
    "    prob_s1_x_i = (pdf_i[1] * prob_s[1]) / prob_x_i\n",
    "    prob_s1_x.append(prob_s1_x_i)\n",
    "\n",
    "probs = zip(data, prob_s0_x, prob_s1_x)\n",
    "for p in probs:\n",
    "    print(p[0])\n",
    "    print(\"Probability of coming from S_0 = \" + str(p[1]))\n",
    "    print(\"Probability of coming from S_1 = \" + str(p[2]))\n",
    "    print()\n"
   ]
  },
  {
   "cell_type": "markdown",
   "metadata": {},
   "source": [
    "f) Having computed `P(S_j | X_i)`, update the estimates of `mean_j`, `var_j`, and `P(S_j)`. How different are these values from the original ones you got from K means? briefly comment."
   ]
  },
  {
   "cell_type": "code",
   "execution_count": 19,
   "metadata": {},
   "outputs": [
    {
     "name": "stdout",
     "output_type": "stream",
     "text": [
      "P(S_1) = 0.6,  P(S_2) = 0.4\n",
      "mean_1 = 6.044404679629524,  mean_2 = 7.85488382302688\n",
      "var_1 = 0.2600682881658137,  var_2 = 0.29927365923999505\n"
     ]
    }
   ],
   "source": [
    "prob_c = [sum(prob_s0_x)/ len(prob_s0_x), sum(prob_s1_x)/ len(prob_s1_x) ]\n",
    "mean = [sum([x[0] * x[1] for x in zip(prob_s0_x, data)]) / sum(prob_s0_x), sum([x[0] * x[1] for x in zip(prob_s1_x, data)]) / sum(prob_s1_x) ]\n",
    "var = [sum([x[0] * ((x[1] - mean[0])**2) for x in zip(prob_s0_x, data)]) / sum(prob_s0_x),\n",
    "       sum([x[0] * ((x[1] - mean[1])**2) for x in zip(prob_s1_x, data)]) / sum(prob_s1_x)]\n",
    "\n",
    "\n",
    "print(\"P(S_1) = \" + str(prob_s[0]) + \",  P(S_2) = \" + str(prob_s[1]))\n",
    "print(\"mean_1 = \" + str(mean[0]) + \",  mean_2 = \" + str(mean[1]))\n",
    "print(\"var_1 = \" + str(var[0]) + \",  var_2 = \" + str(var[1]))"
   ]
  },
  {
   "cell_type": "markdown",
   "metadata": {},
   "source": []
  },
  {
   "cell_type": "markdown",
   "metadata": {},
   "source": [
    "g) Update `P(S_j | X_i)`. Comment on any differences or lack thereof you observe."
   ]
  },
  {
   "cell_type": "code",
   "execution_count": 20,
   "metadata": {},
   "outputs": [
    {
     "name": "stdout",
     "output_type": "stream",
     "text": [
      "7.663923713040404\n",
      "Probability of coming from S_0 = 7.925618897354606e-09\n",
      "Probability of coming from S_1 = 0.9999999920743811\n",
      "\n",
      "7.535742148825161\n",
      "Probability of coming from S_0 = 2.1766076845836543e-07\n",
      "Probability of coming from S_1 = 0.9999997823392315\n",
      "\n",
      "6.557229276486337\n",
      "Probability of coming from S_0 = 0.9996609878241548\n",
      "Probability of coming from S_1 = 0.00033901217584516663\n",
      "\n",
      "5.845116572311545\n",
      "Probability of coming from S_0 = 0.9999999998731544\n",
      "Probability of coming from S_1 = 1.2684559466659643e-10\n",
      "\n",
      "5.272790328950243\n",
      "Probability of coming from S_0 = 0.9999999999999968\n",
      "Probability of coming from S_1 = 3.2784911246832514e-15\n",
      "\n",
      "7.462033117893832\n",
      "Probability of coming from S_0 = 1.4236834383010864e-06\n",
      "Probability of coming from S_1 = 0.9999985763165617\n",
      "\n",
      "8.791639250174468\n",
      "Probability of coming from S_0 = 1.3424840792986356e-22\n",
      "Probability of coming from S_1 = 1.0\n",
      "\n",
      "6.781268177291016\n",
      "Probability of coming from S_0 = 0.95043354520376\n",
      "Probability of coming from S_1 = 0.04956645479623997\n",
      "\n",
      "5.69804821147687\n",
      "Probability of coming from S_0 = 0.9999999999924967\n",
      "Probability of coming from S_1 = 7.503349117283809e-12\n",
      "\n",
      "6.1351032454803285\n",
      "Probability of coming from S_0 = 0.9999999578991806\n",
      "Probability of coming from S_1 = 4.2100819439997014e-08\n",
      "\n"
     ]
    }
   ],
   "source": [
    "prob_s0_x = []  # P(S_0 | X_i)\n",
    "prob_s1_x = []  # P(S_1 | X_i)\n",
    "\n",
    "for p in data:\n",
    "    pdf_i = []\n",
    "\n",
    "    for j in range(k):\n",
    "        # P(X_i | S_j)\n",
    "        pdf_i.append(norm.pdf(p, mean[j], var[j]))\n",
    "\n",
    "    # P(S_0 | X_i) = P(X_i | S_0)P(S_0) / P(X_i)\n",
    "    prob_s0_x_i = (pdf_i[0] * prob_c[0]) / (pdf_i[0] * prob_c[0] + pdf_i[1] * prob_c[1])\n",
    "    prob_s0_x.append(prob_s0_x_i)\n",
    "\n",
    "    # P(S_1 | X_i) = P(X_i | S_1)P(S_1) / P(X_i)\n",
    "    prob_s1_x_i = (pdf_i[1] * prob_c[1]) / (pdf_i[0] * prob_c[0] + pdf_i[1] * prob_c[1])\n",
    "    prob_s1_x.append(prob_s1_x_i)\n",
    "\n",
    "# Print updated posterior probabilities\n",
    "probs = zip(data, prob_s0_x, prob_s1_x)\n",
    "for p in probs:\n",
    "    print(p[0])\n",
    "    print(\"Probability of coming from S_0 = \" + str(p[1]))\n",
    "    print(\"Probability of coming from S_1 = \" + str(p[2]))\n",
    "    print()\n"
   ]
  },
  {
   "cell_type": "markdown",
   "metadata": {},
   "source": []
  },
  {
   "cell_type": "markdown",
   "metadata": {},
   "source": [
    "h) Use `P(S_j | X_i)` to create a hard assignment - label each point as belonging to a specific cluster (0 or 1)"
   ]
  },
  {
   "cell_type": "code",
   "execution_count": 21,
   "metadata": {},
   "outputs": [
    {
     "name": "stdout",
     "output_type": "stream",
     "text": [
      "Data point 0 belongs to Cluster 1\n",
      "Data point 1 belongs to Cluster 1\n",
      "Data point 2 belongs to Cluster 0\n",
      "Data point 3 belongs to Cluster 0\n",
      "Data point 4 belongs to Cluster 0\n",
      "Data point 5 belongs to Cluster 1\n",
      "Data point 6 belongs to Cluster 1\n",
      "Data point 7 belongs to Cluster 0\n",
      "Data point 8 belongs to Cluster 0\n",
      "Data point 9 belongs to Cluster 0\n"
     ]
    }
   ],
   "source": [
    "hard_assignments = []  # List to store hard cluster assignments\n",
    "\n",
    "for p_s0, p_s1 in zip(prob_s0_x, prob_s1_x):\n",
    "    if p_s0 > p_s1:\n",
    "        hard_assignments.append(0)  # Assign to cluster 0\n",
    "    else:\n",
    "        hard_assignments.append(1)  # Assign to cluster 1\n",
    "\n",
    "# Print the hard assignments\n",
    "for i, assignment in enumerate(hard_assignments):\n",
    "    print(f\"Data point {i} belongs to Cluster {assignment}\")\n"
   ]
  },
  {
   "cell_type": "code",
   "execution_count": null,
   "metadata": {},
   "outputs": [],
   "source": []
  }
 ],
 "metadata": {
  "kernelspec": {
   "display_name": "Python 3",
   "language": "python",
   "name": "python3"
  },
  "language_info": {
   "codemirror_mode": {
    "name": "ipython",
    "version": 3
   },
   "file_extension": ".py",
   "mimetype": "text/x-python",
   "name": "python",
   "nbconvert_exporter": "python",
   "pygments_lexer": "ipython3",
   "version": "3.9.6"
  },
  "orig_nbformat": 4,
  "vscode": {
   "interpreter": {
    "hash": "e7370f93d1d0cde622a1f8e1c04877d8463912d04d973331ad4851f04de6915a"
   }
  }
 },
 "nbformat": 4,
 "nbformat_minor": 2
}
